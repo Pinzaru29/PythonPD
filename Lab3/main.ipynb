{
 "cells": [
  {
   "cell_type": "markdown",
   "metadata": {},
   "source": [
    "#### Import necessary libraries"
   ]
  },
  {
   "cell_type": "code",
   "execution_count": 2,
   "metadata": {},
   "outputs": [],
   "source": [
    "import pandas as pd"
   ]
  },
  {
   "cell_type": "markdown",
   "metadata": {},
   "source": [
    "#### Task 1"
   ]
  },
  {
   "cell_type": "code",
   "execution_count": 3,
   "metadata": {},
   "outputs": [],
   "source": [
    "spotify_data = pd.read_csv(\"spotify-2023.csv\") # Read from CSV file"
   ]
  },
  {
   "cell_type": "code",
   "execution_count": 4,
   "metadata": {},
   "outputs": [
    {
     "name": "stdout",
     "output_type": "stream",
     "text": [
      "<class 'pandas.core.frame.DataFrame'>\n",
      "RangeIndex: 953 entries, 0 to 952\n",
      "Data columns (total 24 columns):\n",
      " #   Column                Non-Null Count  Dtype \n",
      "---  ------                --------------  ----- \n",
      " 0   track_name            953 non-null    object\n",
      " 1   artist(s)_name        953 non-null    object\n",
      " 2   artist_count          953 non-null    int64 \n",
      " 3   released_year         953 non-null    int64 \n",
      " 4   released_month        953 non-null    int64 \n",
      " 5   released_day          953 non-null    int64 \n",
      " 6   in_spotify_playlists  953 non-null    int64 \n",
      " 7   in_spotify_charts     953 non-null    int64 \n",
      " 8   streams               953 non-null    object\n",
      " 9   in_apple_playlists    953 non-null    int64 \n",
      " 10  in_apple_charts       953 non-null    int64 \n",
      " 11  in_deezer_playlists   953 non-null    object\n",
      " 12  in_deezer_charts      953 non-null    int64 \n",
      " 13  in_shazam_charts      903 non-null    object\n",
      " 14  bpm                   953 non-null    int64 \n",
      " 15  key                   858 non-null    object\n",
      " 16  mode                  953 non-null    object\n",
      " 17  danceability          953 non-null    int64 \n",
      " 18  valence               953 non-null    int64 \n",
      " 19  energy                953 non-null    int64 \n",
      " 20  acousticness          953 non-null    int64 \n",
      " 21  instrumentalness      953 non-null    int64 \n",
      " 22  liveness              953 non-null    int64 \n",
      " 23  speechiness           953 non-null    int64 \n",
      "dtypes: int64(17), object(7)\n",
      "memory usage: 178.8+ KB\n"
     ]
    }
   ],
   "source": [
    "spotify_data.info() # See all columns and their data types"
   ]
  },
  {
   "cell_type": "code",
   "execution_count": 5,
   "metadata": {},
   "outputs": [],
   "source": [
    "X_data = spotify_data.drop(columns=['released_year','released_month','released_day']) # Delete some of columns and assign to X_data variable\n",
    "Y_data = spotify_data[['released_year','released_month','released_day']]              # Assign 3 columns to Y_data variable"
   ]
  },
  {
   "cell_type": "code",
   "execution_count": 6,
   "metadata": {},
   "outputs": [],
   "source": [
    "# Save data to CSV files\n",
    "X_data.to_csv('X.csv', index=False)\n",
    "Y_data.to_csv('Y.csv', index=False)"
   ]
  },
  {
   "cell_type": "markdown",
   "metadata": {},
   "source": [
    "#### Task 2"
   ]
  },
  {
   "cell_type": "code",
   "execution_count": 7,
   "metadata": {},
   "outputs": [],
   "source": [
    "# Create new column and save a string of date\n",
    "spotify_data['date_string'] = spotify_data['released_year'].astype(str) + '-' + spotify_data['released_month'].astype(str) + '-' + spotify_data['released_day'].astype(str)\n",
    "\n",
    "# Convert date_string column to date_time type variable and assign to new release_date column\n",
    "spotify_data['release_date'] = pd.to_datetime(spotify_data['date_string'], format='%Y-%m-%d')\n",
    "\n",
    "# Delete temporary column\n",
    "spotify_data.drop(columns=['date_string'], inplace=True)\n",
    "\n",
    "spotify_datetime = spotify_data.drop(columns=['released_year', 'released_month', 'released_day'])\n",
    "\n",
    "\n",
    "# Group the data by year\n",
    "grouped = spotify_data.groupby(spotify_data['release_date'].dt.year)\n",
    "\n",
    "for year, group in grouped:\n",
    "    # Determine the first and last dates in this group\n",
    "    start_date = group['release_date'].min()\n",
    "    end_date = group['release_date'].max()\n",
    "\n",
    "    # Form the filename\n",
    "    filename = f'{start_date.strftime(\"%Y%m%d\")}_{end_date.strftime(\"%Y%m%d\")}.csv'\n",
    "\n",
    "    # Save the group to a separate CSV file\n",
    "    group.to_csv(filename, index=False)"
   ]
  },
  {
   "cell_type": "markdown",
   "metadata": {},
   "source": [
    "#### Task 3"
   ]
  },
  {
   "cell_type": "code",
   "execution_count": 8,
   "metadata": {},
   "outputs": [],
   "source": [
    "# Define weeks based on the release_date column\n",
    "spotify_datetime['week'] = spotify_datetime['release_date'].dt.strftime('%Y-%U')\n",
    "\n",
    "# Group the data by week\n",
    "grouped = spotify_datetime.groupby('week')\n",
    "\n",
    "# Create and save files for each week\n",
    "for week, group in grouped:\n",
    "    start_date = group['release_date'].min().date()\n",
    "    end_date = group['release_date'].max().date()\n",
    "    output_file = f'{start_date}_{end_date}.csv'\n",
    "    group.to_csv(output_file, index=False)"
   ]
  },
  {
   "cell_type": "markdown",
   "metadata": {},
   "source": [
    "#### Task 4"
   ]
  },
  {
   "cell_type": "code",
   "execution_count": 9,
   "metadata": {},
   "outputs": [
    {
     "name": "stdout",
     "output_type": "stream",
     "text": [
      "None\n"
     ]
    }
   ],
   "source": [
    "def get_dataFiles_ymd(target_date):\n",
    "    matching_rows = Y_data[Y_data['release_date'] == target_date] # Fined matching rows where date == target_date\n",
    "\n",
    "    if not matching_rows.empty:\n",
    "        # Save all matching data\n",
    "        matching_data = X_data.iloc[matching_rows.index]\n",
    "        if not matching_data.empty:\n",
    "            display(matching_data)\n",
    "        else:\n",
    "            print(None)\n",
    "    else:\n",
    "        print(None)\n",
    "\n",
    "target_date_input = input(\"Enter the target date (YYYY-MM-DD): \") # 2002-05-26 2023-06-02\n",
    "\n",
    "try:\n",
    "    target_date = pd.to_datetime(target_date_input)\n",
    "\n",
    "    Y_data = pd.read_csv('Y.csv')\n",
    "\n",
    "    Y_data['release_date'] = pd.to_datetime(Y_data['released_year'].astype(str) + '-' + Y_data['released_month'].astype(str) + '-' + Y_data['released_day'].astype(str), format='%Y-%m-%d')\n",
    "    get_dataFiles_ymd(target_date)\n",
    "except ValueError:\n",
    "    print(\"Invalid date format. Please use YYYY-MM-DD format.\")"
   ]
  },
  {
   "cell_type": "code",
   "execution_count": 10,
   "metadata": {},
   "outputs": [
    {
     "data": {
      "text/html": [
       "<div>\n",
       "<style scoped>\n",
       "    .dataframe tbody tr th:only-of-type {\n",
       "        vertical-align: middle;\n",
       "    }\n",
       "\n",
       "    .dataframe tbody tr th {\n",
       "        vertical-align: top;\n",
       "    }\n",
       "\n",
       "    .dataframe thead th {\n",
       "        text-align: right;\n",
       "    }\n",
       "</style>\n",
       "<table border=\"1\" class=\"dataframe\">\n",
       "  <thead>\n",
       "    <tr style=\"text-align: right;\">\n",
       "      <th></th>\n",
       "      <th>track_name</th>\n",
       "      <th>artist(s)_name</th>\n",
       "      <th>artist_count</th>\n",
       "      <th>in_spotify_playlists</th>\n",
       "      <th>in_spotify_charts</th>\n",
       "      <th>streams</th>\n",
       "      <th>in_apple_playlists</th>\n",
       "      <th>in_apple_charts</th>\n",
       "      <th>in_deezer_playlists</th>\n",
       "      <th>in_deezer_charts</th>\n",
       "      <th>...</th>\n",
       "      <th>mode</th>\n",
       "      <th>danceability</th>\n",
       "      <th>valence</th>\n",
       "      <th>energy</th>\n",
       "      <th>acousticness</th>\n",
       "      <th>instrumentalness</th>\n",
       "      <th>liveness</th>\n",
       "      <th>speechiness</th>\n",
       "      <th>release_date</th>\n",
       "      <th>week</th>\n",
       "    </tr>\n",
       "  </thead>\n",
       "  <tbody>\n",
       "    <tr>\n",
       "      <th>40</th>\n",
       "      <td>El Azul</td>\n",
       "      <td>Junior H, Peso Pluma</td>\n",
       "      <td>2</td>\n",
       "      <td>692</td>\n",
       "      <td>25</td>\n",
       "      <td>354495408</td>\n",
       "      <td>10</td>\n",
       "      <td>107</td>\n",
       "      <td>6</td>\n",
       "      <td>3</td>\n",
       "      <td>...</td>\n",
       "      <td>Minor</td>\n",
       "      <td>56</td>\n",
       "      <td>84</td>\n",
       "      <td>65</td>\n",
       "      <td>23</td>\n",
       "      <td>0</td>\n",
       "      <td>10</td>\n",
       "      <td>6</td>\n",
       "      <td>2023-02-10</td>\n",
       "      <td>2023-06</td>\n",
       "    </tr>\n",
       "    <tr>\n",
       "      <th>117</th>\n",
       "      <td>Rara Vez</td>\n",
       "      <td>Taiu, Milo j</td>\n",
       "      <td>2</td>\n",
       "      <td>893</td>\n",
       "      <td>38</td>\n",
       "      <td>248088961</td>\n",
       "      <td>19</td>\n",
       "      <td>23</td>\n",
       "      <td>24</td>\n",
       "      <td>3</td>\n",
       "      <td>...</td>\n",
       "      <td>Minor</td>\n",
       "      <td>84</td>\n",
       "      <td>96</td>\n",
       "      <td>71</td>\n",
       "      <td>18</td>\n",
       "      <td>0</td>\n",
       "      <td>34</td>\n",
       "      <td>17</td>\n",
       "      <td>2023-02-08</td>\n",
       "      <td>2023-06</td>\n",
       "    </tr>\n",
       "    <tr>\n",
       "      <th>280</th>\n",
       "      <td>Watch This - ARIZONATEARS Pluggnb Remix</td>\n",
       "      <td>sped up nightcore, ARIZONATEARS, Lil Uzi Vert</td>\n",
       "      <td>3</td>\n",
       "      <td>1638</td>\n",
       "      <td>10</td>\n",
       "      <td>207033255</td>\n",
       "      <td>0</td>\n",
       "      <td>0</td>\n",
       "      <td>21</td>\n",
       "      <td>0</td>\n",
       "      <td>...</td>\n",
       "      <td>Minor</td>\n",
       "      <td>69</td>\n",
       "      <td>36</td>\n",
       "      <td>90</td>\n",
       "      <td>1</td>\n",
       "      <td>10</td>\n",
       "      <td>15</td>\n",
       "      <td>4</td>\n",
       "      <td>2023-02-05</td>\n",
       "      <td>2023-06</td>\n",
       "    </tr>\n",
       "    <tr>\n",
       "      <th>315</th>\n",
       "      <td>If We Ever Broke Up</td>\n",
       "      <td>Mae Stephens</td>\n",
       "      <td>1</td>\n",
       "      <td>2040</td>\n",
       "      <td>4</td>\n",
       "      <td>165584767</td>\n",
       "      <td>81</td>\n",
       "      <td>27</td>\n",
       "      <td>66</td>\n",
       "      <td>9</td>\n",
       "      <td>...</td>\n",
       "      <td>Major</td>\n",
       "      <td>90</td>\n",
       "      <td>96</td>\n",
       "      <td>73</td>\n",
       "      <td>62</td>\n",
       "      <td>0</td>\n",
       "      <td>9</td>\n",
       "      <td>4</td>\n",
       "      <td>2023-02-10</td>\n",
       "      <td>2023-06</td>\n",
       "    </tr>\n",
       "  </tbody>\n",
       "</table>\n",
       "<p>4 rows × 23 columns</p>\n",
       "</div>"
      ],
      "text/plain": [
       "                                  track_name  \\\n",
       "40                                   El Azul   \n",
       "117                                 Rara Vez   \n",
       "280  Watch This - ARIZONATEARS Pluggnb Remix   \n",
       "315                      If We Ever Broke Up   \n",
       "\n",
       "                                    artist(s)_name  artist_count  \\\n",
       "40                            Junior H, Peso Pluma             2   \n",
       "117                                   Taiu, Milo j             2   \n",
       "280  sped up nightcore, ARIZONATEARS, Lil Uzi Vert             3   \n",
       "315                                   Mae Stephens             1   \n",
       "\n",
       "     in_spotify_playlists  in_spotify_charts    streams  in_apple_playlists  \\\n",
       "40                    692                 25  354495408                  10   \n",
       "117                   893                 38  248088961                  19   \n",
       "280                  1638                 10  207033255                   0   \n",
       "315                  2040                  4  165584767                  81   \n",
       "\n",
       "     in_apple_charts in_deezer_playlists  in_deezer_charts  ...   mode  \\\n",
       "40               107                   6                 3  ...  Minor   \n",
       "117               23                  24                 3  ...  Minor   \n",
       "280                0                  21                 0  ...  Minor   \n",
       "315               27                  66                 9  ...  Major   \n",
       "\n",
       "     danceability valence energy  acousticness  instrumentalness  liveness  \\\n",
       "40             56      84     65            23                 0        10   \n",
       "117            84      96     71            18                 0        34   \n",
       "280            69      36     90             1                10        15   \n",
       "315            90      96     73            62                 0         9   \n",
       "\n",
       "     speechiness  release_date     week  \n",
       "40             6    2023-02-10  2023-06  \n",
       "117           17    2023-02-08  2023-06  \n",
       "280            4    2023-02-05  2023-06  \n",
       "315            4    2023-02-10  2023-06  \n",
       "\n",
       "[4 rows x 23 columns]"
      ]
     },
     "metadata": {},
     "output_type": "display_data"
    }
   ],
   "source": [
    "def get_data_yw(target_date):\n",
    "    filtered_data_by_week = spotify_datetime[spotify_datetime['week'] == target_date]\n",
    "\n",
    "    if not filtered_data_by_week.empty:\n",
    "        display(filtered_data_by_week)\n",
    "    else:\n",
    "        print(None)\n",
    "\n",
    "target_date = input(\"Enter the target week (YYYY-WW): \")  # 2002-00 2023-25\n",
    "\n",
    "try:\n",
    "    get_data_yw(target_date)\n",
    "except ValueError:\n",
    "    print(\"Invalid week format. Please use YYYY-WW format.\")"
   ]
  },
  {
   "cell_type": "code",
   "execution_count": 11,
   "metadata": {},
   "outputs": [
    {
     "name": "stdout",
     "output_type": "stream",
     "text": [
      "None\n"
     ]
    }
   ],
   "source": [
    "def get_data_ymd(target_date):\n",
    "    filtered_data_by_ymd = spotify_datetime[spotify_datetime['release_date'] == target_date]\n",
    "\n",
    "    if not filtered_data_by_ymd.empty:\n",
    "        display(filtered_data_by_ymd)\n",
    "    else:\n",
    "        print(None)\n",
    "\n",
    "target_date_input = input(\"Enter the target date (YYYY-MM-DD): \")  # 2002-05-26 2023-06-02\n",
    "\n",
    "try:\n",
    "    target_date = pd.to_datetime(target_date_input)\n",
    "    get_data_ymd(target_date)\n",
    "except ValueError:\n",
    "    print(\"Invalid date format. Please use YYYY-MM-DD format.\")"
   ]
  }
 ],
 "metadata": {
  "kernelspec": {
   "display_name": "Python 3",
   "language": "python",
   "name": "python3"
  },
  "language_info": {
   "codemirror_mode": {
    "name": "ipython",
    "version": 3
   },
   "file_extension": ".py",
   "mimetype": "text/x-python",
   "name": "python",
   "nbconvert_exporter": "python",
   "pygments_lexer": "ipython3",
   "version": "3.10.10"
  }
 },
 "nbformat": 4,
 "nbformat_minor": 2
}
